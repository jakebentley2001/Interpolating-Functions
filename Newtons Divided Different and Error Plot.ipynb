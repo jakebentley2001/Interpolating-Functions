{
 "cells": [
  {
   "cell_type": "code",
   "execution_count": 1,
   "metadata": {},
   "outputs": [],
   "source": [
    "import matplotlib.pyplot as plt\n",
    "import numpy as np"
   ]
  },
  {
   "cell_type": "code",
   "execution_count": null,
   "metadata": {},
   "outputs": [],
   "source": [
    "#Pseudo Code\n",
    "for j = 0, 1, ..., n do\n",
    "    cj = fj\n",
    "end for\n",
    "for k = 1, ..., n do\n",
    "    for j = n, n − 1, ..., k do\n",
    "        cj = (cj − cj−1)/(xj − xj−k)\n",
    "    end for\n",
    "end for\n",
    "\n",
    "p = cn\n",
    "for j = n, n − 1, ..., 0 do\n",
    "p = cj + (x − xj )p\n",
    "end for\n"
   ]
  },
  {
   "cell_type": "code",
   "execution_count": 39,
   "metadata": {},
   "outputs": [
    {
     "name": "stdout",
     "output_type": "stream",
     "text": [
      "Pick an x values:  -0.75\n",
      "1.828125\n"
     ]
    }
   ],
   "source": [
    "#Suppose f(x) = 3 + 4x + x^2 -3x^3\n",
    "n = 11\n",
    "xvalues = [None] * n\n",
    "fvalues = [None] * n\n",
    "cvalues = [None] * n\n",
    "\n",
    "\n",
    "for j in range(0,n):\n",
    "    xvalues[j] = -5 + j* (10/(n-1))\n",
    "    fvalues[j] = 3 + 4*xvalues[j] + xvalues[j] ** 2 - 3 * xvalues[j] ** 3\n",
    "    cvalues[j] = fvalues[j]\n",
    "\n",
    "for k in range(1,n+1):\n",
    "    #print(\"running outside loop\")\n",
    "    for j in reversed(range(k,n)):\n",
    "        #print(xvalues[j])\n",
    "        #print(xvalues[j-k])\n",
    "        cvalues[j] = (cvalues[j] - cvalues[j-1]) / (xvalues[j] - xvalues[j-k])\n",
    "\n",
    "x = float(input(\"Pick an x values:  \") )     \n",
    "\n",
    "p = cvalues[n-1]\n",
    "for j in reversed(range(n)):\n",
    "    p = cvalues[j] + (x - xvalues[j]) * p\n",
    "    \n",
    "print(p)\n",
    "#Since we are approximating a degree 3 polynomial and we have 11 points our estimate \n",
    "#should be exactly the fvalue for the actual polynomial \n",
    "#This test shows the formual is working because f(-0.75) = 1.828125 "
   ]
  },
  {
   "cell_type": "code",
   "execution_count": 93,
   "metadata": {},
   "outputs": [],
   "source": [
    "#Creates the polynomial of degree 10\n",
    "def polyapprox(x):\n",
    "    n = 11\n",
    "    xvalues = [None] * n\n",
    "    fvalues = [None] * n\n",
    "    cvalues = [None] * n\n",
    "    \n",
    "\n",
    "\n",
    "    for j in range(0,n):\n",
    "        xvalues[j] = round(-1 + j* (2/(n-1)),3)\n",
    "        fvalues[j] = np.exp(-1 * xvalues[j] ** 2)\n",
    "        cvalues[j] = fvalues[j]\n",
    "        \n",
    "    #print(xvalues)\n",
    "\n",
    "    for k in range(1,n+1):\n",
    "        for j in reversed(range(k,n)):\n",
    "            cvalues[j] = (cvalues[j] - cvalues[j-1]) / (xvalues[j] - xvalues[j-k])\n",
    "     \n",
    "    #Creates the Horner-like scheme\n",
    "    p = cvalues[n-1]\n",
    "    for j in reversed(range(n)):\n",
    "        p = cvalues[j] + (x - xvalues[j]) * p\n",
    "    \n",
    "    return p"
   ]
  },
  {
   "cell_type": "code",
   "execution_count": 94,
   "metadata": {},
   "outputs": [],
   "source": [
    "def evalpoly(ylist):\n",
    "    errors = [None] * len(ylist)\n",
    "    for elements in range(len(ylist)):\n",
    "        errors[elements] = round(np.exp(-1 * ylist[elements] ** 2) - polyapprox(ylist[elements]),15)\n",
    "        \n",
    "    \n",
    "    #return errors\n",
    "    plt.plot(ylist,errors,label = 'Errors')\n",
    "    plt.ylim(-0.00006,0.00006)\n",
    "    plt.xlim(-1.1,1.1)\n",
    "    plt.legend()\n",
    "        \n",
    "                          "
   ]
  },
  {
   "cell_type": "code",
   "execution_count": 95,
   "metadata": {},
   "outputs": [
    {
     "data": {
      "image/png": "[encoded data removed]",
      "text/plain": [
       "<Figure size 432x288 with 1 Axes>"
      ]
     },
     "metadata": {
      "needs_background": "light"
     },
     "output_type": "display_data"
    }
   ],
   "source": [
    "ylist = [None] * 101\n",
    "for e in range(len(ylist)):\n",
    "    ylist[e] = round(-1 + e*(2/100),3)\n",
    "    \n",
    "    \n",
    "evalpoly(ylist)"
   ]
  }
 ],
 "metadata": {
  "kernelspec": {
   "display_name": "Python 3",
   "language": "python",
   "name": "python3"
  },
  "language_info": {
   "codemirror_mode": {
    "name": "ipython",
    "version": 3
   },
   "file_extension": ".py",
   "mimetype": "text/x-python",
   "name": "python",
   "nbconvert_exporter": "python",
   "pygments_lexer": "ipython3",
   "version": "3.8.5"
  }
 },
 "nbformat": 4,
 "nbformat_minor": 4
}
