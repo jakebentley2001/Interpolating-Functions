{
 "cells": [
  {
   "cell_type": "code",
   "execution_count": 1,
   "metadata": {},
   "outputs": [],
   "source": [
    "import matplotlib.pyplot as plt\n",
    "import numpy as np"
   ]
  },
  {
   "cell_type": "code",
   "execution_count": 3,
   "metadata": {},
   "outputs": [],
   "source": [
    "def cubicspline(xvalues,fvalues,x):\n",
    "    hvalues = [None] * (len(xvalues) - 1)\n",
    "    avalues = [None] * (len(hvalues))\n",
    "    bvalues = [None] * (len(hvalues))\n",
    "    cvalues = [None] * (len(hvalues))\n",
    "    dvalues = [None] * (len(hvalues))\n",
    "    \n",
    "    \n",
    "    for j in range(len(xvalues) - 1):\n",
    "        hvalues[j] = xvalues[j+1] - xvalues[j]\n",
    "\n",
    "    zvalues = getzvalues(hvalues,fvalues)\n",
    "    \n",
    "    for i in range(len(hvalues)):\n",
    "        avalues[i] = (1 / (6 * hvalues[i])) * (zvalues[i+1] - zvalues[i])\n",
    "        bvalues[i] = 0.5 * zvalues[i]\n",
    "        cvalues[i] = (1/hvalues[i])*(fvalues[i+1]-fvalues[i]) - (hvalues[i] / 6) * (zvalues[i + 1] + 2*zvalues[i])\n",
    "        dvalues[i] = fvalues[i]\n",
    "    \n",
    "    w = 0\n",
    "    while x > xvalues[w]:\n",
    "        w = w + 1\n",
    "\n",
    "    \n",
    "    w = w - 1\n",
    "        \n",
    "    s_x = avalues[w]*(x - xvalues[w])**3 + bvalues[w] * (x - xvalues[w])**2 + cvalues[w] * (x - xvalues[w]) + dvalues[w]\n",
    "    \n",
    "    return s_x\n",
    "\n",
    "\n",
    "\n",
    "\n"
   ]
  },
  {
   "cell_type": "code",
   "execution_count": 4,
   "metadata": {},
   "outputs": [],
   "source": [
    "def getzvalues(hvalues,fvalues):\n",
    "    a = [None] * (len(hvalues) - 1)\n",
    "    b = [None] * (len(hvalues) - 2)\n",
    "    c = [None] * (len(hvalues) - 2)\n",
    "     \n",
    "    for i in range(len(a)):\n",
    "        a[i] = 2 * (hvalues[i] + hvalues[i+1])\n",
    "    \n",
    "    for i in range(len(b)):\n",
    "        b[i] = hvalues[i+1]\n",
    "        c[i] = hvalues[i+1]\n",
    "\n",
    "    N = len(a)\n",
    "    m = [None] * N\n",
    "    l = [None] * (N - 1)\n",
    "    y = [None] * (N)\n",
    "    x = [None] * (N)\n",
    "    d = [None] * (N)\n",
    "    \n",
    "    m[0] = a[0]\n",
    "    for j in range(N-1):\n",
    "        l[j] = c[j] / m [j]\n",
    "        m[j+1] = a[j + 1] - 1 * b[j]\n",
    "    \n",
    "    for i in range(N):\n",
    "        d[i] = (-6 / hvalues[i]) * (fvalues[i+1] - fvalues[i]) + (6/hvalues[i+1]) * (fvalues[i+2] - fvalues[i+1])\n",
    "    \n",
    "    y[0] = d[0]\n",
    "    for i in range(1,N):\n",
    "        y[i] = d[i] - l[i-1] * y[i - 1]\n",
    "    \n",
    "    x[N-1] = y[N-1] / m[N-1]\n",
    "    for j in range(N-2,-1,-1):\n",
    "        x[j] = (y[j] - b[j] * x[j+1]) / m[j]\n",
    "\n",
    "    x.insert(0,0)\n",
    "    x.append(0)\n",
    "    \n",
    "    return x\n",
    "\n",
    "    \n",
    "        \n",
    "    "
   ]
  },
  {
   "cell_type": "code",
   "execution_count": 6,
   "metadata": {},
   "outputs": [],
   "source": [
    "def plotinterp(xvalues,fvalues):\n",
    "    number = 50\n",
    "    plotpoints = []\n",
    "    inputlist = []\n",
    "    flist = []\n",
    "    for i in range(number):\n",
    "        inpt = -1.091 + i * (1.962 / number)\n",
    "        inputlist.append(inpt)\n",
    "        plotpoints.append(cubicspline(xvalues,fvalues,inpt))\n",
    "  \n",
    "    for i in range(number):\n",
    "        f = 4 * inputlist[i] ** 4 - 3 * inputlist[i] ** 2 + inputlist[i]\n",
    "        flist.append(f)\n",
    "        \n",
    "\n",
    "    plt.plot(inputlist,plotpoints, label= \"Approx\")\n",
    "    plt.plot(inputlist,flist,label = \"Real\")\n",
    "    plt.ylim(-1.5,1.5)\n",
    "    plt.xlim(-1.2,1)\n",
    "    plt.legend()"
   ]
  },
  {
   "cell_type": "code",
   "execution_count": 7,
   "metadata": {},
   "outputs": [
    {
     "data": {
      "image/png": "[encoded data removed]",
      "text/plain": [
       "<Figure size 432x288 with 1 Axes>"
      ]
     },
     "metadata": {
      "needs_background": "light"
     },
     "output_type": "display_data"
    }
   ],
   "source": [
    "fvalues = [1,-0.4,-1,-0.6,-0.1,0.087,0.06,0.4,0.9]\n",
    "xvalues = [-1.091,-0.95,-0.829,-0.326,-0.081,0.183,0.306,0.771,0.871]\n",
    "plotinterp(xvalues,fvalues)"
   ]
  },
  {
   "cell_type": "code",
   "execution_count": 20,
   "metadata": {},
   "outputs": [],
   "source": [
    "def plottab(t,x,y):\n",
    "    number = 500\n",
    "    xlist = []\n",
    "    ylist = []\n",
    "    for i in range(number):\n",
    "        inpt = i * (3.33 / number)\n",
    "        xlist.append(cubicspline(t,x,inpt))\n",
    "        \n",
    "    for i in range(number):\n",
    "        inpt2 = i * (3.33 / number)\n",
    "        ylist.append(cubicspline(t,y,inpt2))\n",
    "    \n",
    "        \n",
    "    plt.plot(xlist,ylist, label = \"Para Curve\")\n",
    "    plt.ylim(min(y) - 0.1,max(y)+0.1)\n",
    "    plt.xlim(min(x)-0.1,max(x)+0.1)\n"
   ]
  },
  {
   "cell_type": "code",
   "execution_count": null,
   "metadata": {},
   "outputs": [],
   "source": [
    "t = [0,0.618,0.935,1.255,1.636,1.905,2.317,2.827,3.330]\n",
    "x = [1.50,0.9,0.6,0.35,0.20,0.1,0.5,1.0,1.5]\n",
    "y = [0.75,0.9,1,0.8,0.45,0.2,0.1,0.2,0.25]"
   ]
  },
  {
   "cell_type": "code",
   "execution_count": 21,
   "metadata": {},
   "outputs": [
    {
     "data": {
      "image/png": "[encoded data removed]",
      "text/plain": [
       "<Figure size 432x288 with 1 Axes>"
      ]
     },
     "metadata": {
      "needs_background": "light"
     },
     "output_type": "display_data"
    }
   ],
   "source": [
    "plottab(t,x,y)"
   ]
  }
 ],
 "metadata": {
  "kernelspec": {
   "display_name": "Python 3",
   "language": "python",
   "name": "python3"
  },
  "language_info": {
   "codemirror_mode": {
    "name": "ipython",
    "version": 3
   },
   "file_extension": ".py",
   "mimetype": "text/x-python",
   "name": "python",
   "nbconvert_exporter": "python",
   "pygments_lexer": "ipython3",
   "version": "3.8.5"
  }
 },
 "nbformat": 4,
 "nbformat_minor": 4
}
